{
 "cells": [
  {
   "cell_type": "code",
   "execution_count": null,
   "id": "50e97040",
   "metadata": {},
   "outputs": [],
   "source": [
    "import pandas as pd\n",
    "import numpy as np\n",
    "import matplotlib.pyplot as plt\n",
    "import seaborn as sns\n",
    "\n",
    "# Configure plot display\n",
    "%matplotlib inline\n",
    "sns.set(style=\"whitegrid\")\n",
    "\n",
    "# Load dataset\n",
    "df = pd.read_csv(\"../data/Telco-Customer-Churn.csv\")\n",
    "\n",
    "# Show the shape and first few rows\n",
    "print(\"Dataset shape:\", df.shape)\n",
    "df.head()\n"
   ]
  },
  {
   "cell_type": "code",
   "execution_count": null,
   "id": "524e8d96",
   "metadata": {},
   "outputs": [],
   "source": [
    "# Data types\n",
    "df.info()\n",
    "\n",
    "# Nulls and empty strings\n",
    "print(\"\\nMissing values:\")\n",
    "print(df.isnull().sum())\n",
    "\n",
    "# Check for blanks (some missing values are whitespace)\n",
    "print(\"\\nBlank values:\")\n",
    "print((df == \" \").sum())\n"
   ]
  },
  {
   "cell_type": "code",
   "execution_count": null,
   "id": "a3506769",
   "metadata": {},
   "outputs": [],
   "source": [
    "# Churn value counts\n",
    "df['Churn'].value_counts().plot(kind='bar', title='Class Distribution: Churn')\n",
    "plt.show()\n",
    "\n",
    "# Optional: Display percentages\n",
    "churn_dist = df['Churn'].value_counts(normalize=True) * 100\n",
    "print(churn_dist)\n"
   ]
  },
  {
   "cell_type": "code",
   "execution_count": null,
   "id": "375e753a",
   "metadata": {},
   "outputs": [],
   "source": [
    "# Replace blank strings with NaN and convert\n",
    "df['TotalCharges'] = pd.to_numeric(df['TotalCharges'].replace(\" \", np.nan), errors='coerce')\n",
    "\n",
    "# Check how many are NaN\n",
    "print(\"TotalCharges nulls after conversion:\", df['TotalCharges'].isnull().sum())\n",
    "\n",
    "# Option 1: Drop rows with null TotalCharges (few)\n",
    "df.dropna(subset=['TotalCharges'], inplace=True)\n",
    "\n",
    "# Option 2 (alternative): Fill with median or 0\n",
    "# df['TotalCharges'].fillna(df['TotalCharges'].median(), inplace=True)\n"
   ]
  },
  {
   "cell_type": "code",
   "execution_count": null,
   "id": "ca8dc09b",
   "metadata": {},
   "outputs": [],
   "source": [
    "from sklearn.preprocessing import LabelEncoder\n",
    "\n",
    "# Drop irrelevant columns\n",
    "df.drop(['customerID'], axis=1, inplace=True)\n",
    "\n",
    "# Convert target variable to binary\n",
    "df['Churn'] = df['Churn'].map({'Yes': 1, 'No': 0})\n",
    "\n",
    "# Identify categorical columns\n",
    "cat_cols = df.select_dtypes(include='object').columns.tolist()\n",
    "\n",
    "# Apply Label Encoding (can use OneHot later if needed)\n",
    "le = LabelEncoder()\n",
    "for col in cat_cols:\n",
    "    df[col] = le.fit_transform(df[col])\n"
   ]
  },
  {
   "cell_type": "code",
   "execution_count": null,
   "id": "1a1e8de4",
   "metadata": {},
   "outputs": [],
   "source": [
    "from sklearn.model_selection import train_test_split\n",
    "\n",
    "X = df.drop(\"Churn\", axis=1)\n",
    "y = df[\"Churn\"]\n",
    "\n",
    "X_train, X_test, y_train, y_test = train_test_split(\n",
    "    X, y, test_size=0.2, random_state=42, stratify=y\n",
    ")\n"
   ]
  },
  {
   "cell_type": "code",
   "execution_count": null,
   "id": "545b3eb2",
   "metadata": {},
   "outputs": [],
   "source": [
    "import mlflow\n",
    "import mlflow.sklearn\n",
    "from sklearn.linear_model import LogisticRegression\n",
    "from sklearn.metrics import accuracy_score, precision_score, recall_score, f1_score\n",
    "\n",
    "# Start MLflow experiment\n",
    "mlflow.set_experiment(\"churn-prediction\")\n",
    "\n",
    "with mlflow.start_run():\n",
    "    model = LogisticRegression(max_iter=1000)\n",
    "    model.fit(X_train, y_train)\n",
    "    preds = model.predict(X_test)\n",
    "\n",
    "    # Metrics\n",
    "    acc = accuracy_score(y_test, preds)\n",
    "    prec = precision_score(y_test, preds)\n",
    "    rec = recall_score(y_test, preds)\n",
    "    f1 = f1_score(y_test, preds)\n",
    "\n",
    "    # Log parameters and metrics\n",
    "    mlflow.log_param(\"model_type\", \"LogisticRegression\")\n",
    "    mlflow.log_metric(\"accuracy\", acc)\n",
    "    mlflow.log_metric(\"precision\", prec)\n",
    "    mlflow.log_metric(\"recall\", rec)\n",
    "    mlflow.log_metric(\"f1_score\", f1)\n",
    "\n",
    "    # Log model\n",
    "    mlflow.sklearn.log_model(model, \"logistic_model\")\n",
    "\n",
    "    print(f\"Accuracy: {acc:.3f}, Precision: {prec:.3f}, Recall: {rec:.3f}, F1: {f1:.3f}\")\n"
   ]
  },
  {
   "cell_type": "code",
   "execution_count": null,
   "id": "5a4aad77",
   "metadata": {},
   "outputs": [],
   "source": [
    "import mlflow.models\n",
    "from mlflow.models.signature import infer_signature\n",
    "\n",
    "# Infer model signature\n",
    "input_example = X_test.iloc[:1]\n",
    "signature = infer_signature(X_test, model.predict(X_test))\n",
    "\n",
    "# Log model with signature and input\n",
    "mlflow.sklearn.log_model(\n",
    "    sk_model=model,\n",
    "    artifact_path=\"logistic_model\",\n",
    "    input_example=input_example,\n",
    "    signature=signature\n",
    ")\n"
   ]
  }
 ],
 "metadata": {
  "kernelspec": {
   "display_name": "venv",
   "language": "python",
   "name": "python3"
  },
  "language_info": {
   "codemirror_mode": {
    "name": "ipython",
    "version": 3
   },
   "file_extension": ".py",
   "mimetype": "text/x-python",
   "name": "python",
   "nbconvert_exporter": "python",
   "pygments_lexer": "ipython3",
   "version": "3.12.3"
  }
 },
 "nbformat": 4,
 "nbformat_minor": 5
}
